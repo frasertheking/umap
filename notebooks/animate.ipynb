{
 "cells": [
  {
   "cell_type": "markdown",
   "id": "bc44847b",
   "metadata": {},
   "source": [
    "# Animate\n",
    "Old animation notebook (experimenting with different visualization techniques)"
   ]
  },
  {
   "cell_type": "code",
   "execution_count": null,
   "id": "110b0f84",
   "metadata": {},
   "outputs": [],
   "source": [
    "import umap\n",
    "import pandas as pd\n",
    "import numpy as np\n",
    "import matplotlib.pyplot as plt\n",
    "from sklearn.decomposition import PCA\n",
    "import scimap as sm\n",
    "import anndata as ad\n",
    "\n",
    "%matplotlib inline\n",
    "\n",
    "RHO_CUTOFF = 0.4\n",
    "FRAC = 0.05\n",
    "sigma = 2\n",
    "\n",
    "plt.rcParams.update({'font.size': 15})\n",
    "plt.rcParams[\"figure.figsize\"] = [16,16]\n",
    "\n",
    "path = '/Users/fraserking/Development/pca/data/pca_inputs/all_sites_pip.csv'\n",
    "palette = ['red', '#0f9adb', 'blue', '#8d2c8d', '#e8b400', '#007e58', 'gray', 'black']\n",
    "features = ['n0_log', 'lambda_log', 'Fs', 'Rho_log', 'Sr_log', 'Nt_log']"
   ]
  },
  {
   "cell_type": "code",
   "execution_count": 8,
   "id": "0021f896",
   "metadata": {},
   "outputs": [
    {
     "name": "stderr",
     "output_type": "stream",
     "text": [
      "/Users/fraserking/miniforge3/envs/scimap/lib/python3.8/site-packages/pandas/core/arraylike.py:402: RuntimeWarning:\n",
      "\n",
      "divide by zero encountered in log10\n",
      "\n"
     ]
    },
    {
     "name": "stdout",
     "output_type": "stream",
     "text": [
      "(31018, 6)\n",
      "(31018, 23)\n"
     ]
    }
   ],
   "source": [
    "# Load data\n",
    "df = pd.read_csv(path)\n",
    "df = df[df['Rho'] <= RHO_CUTOFF]\n",
    "df['n0_log'] = np.log10(df['n0']) \n",
    "df['lambda_log'] = np.log10(df['lambda'])\n",
    "df['Nt_log'] = np.log10(df['Nt'])\n",
    "df['Rho_log'] = np.log10(df['Rho'])\n",
    "df['Sr_log'] = np.log10(df['Sr'])\n",
    "df['Sr_log'] = df['Sr_log'].replace(-np.inf, 0)\n",
    "df['Dm'] = df['D0']\n",
    "df['Dm_log'] = np.log10(df['Dm'])\n",
    "df.drop(['D0'], axis=1, inplace=True)\n",
    "df = df.drop_duplicates(keep='first')\n",
    "df_all = df.sample(frac=FRAC, random_state=42)\n",
    "\n",
    "for feature in features:\n",
    "    mean_value = df_all[feature].mean()\n",
    "    std_value = df_all[feature].std()\n",
    "    \n",
    "    df_all[f\"{feature}_norm\"] = (df_all[feature] - mean_value) / std_value\n",
    "\n",
    "scaled_data = df_all.loc[:, ['n0_log_norm', 'lambda_log_norm', 'Fs_norm', 'Rho_log_norm', 'Sr_log_norm', 'Nt_log_norm']].values\n",
    "print(scaled_data.shape)\n",
    "print(df_all.shape)\n"
   ]
  },
  {
   "cell_type": "code",
   "execution_count": 9,
   "id": "dd6318cb",
   "metadata": {},
   "outputs": [
    {
     "name": "stdout",
     "output_type": "stream",
     "text": [
      "(31018, 3)\n"
     ]
    }
   ],
   "source": [
    "pca = PCA(n_components = 0.94)\n",
    "pca.fit(scaled_data)\n",
    "pca_embedding = pca.transform(scaled_data)\n",
    "\n",
    "cols=[]\n",
    "for i in range(pca_embedding.shape[1]):\n",
    "    cols.append('pca_eof' + str(i+1))\n",
    "principalDf = pd.DataFrame(data = pca_embedding, columns = cols)\n",
    "df_all = df_all.reset_index(drop=True)\n",
    "principalDf = principalDf.reset_index(drop=True)\n",
    "df_all = pd.concat([df_all, principalDf], axis=1)"
   ]
  },
  {
   "cell_type": "code",
   "execution_count": 10,
   "id": "688b5c04",
   "metadata": {},
   "outputs": [
    {
     "name": "stdout",
     "output_type": "stream",
     "text": [
      "       Unnamed: 0 site                 time           n0         Nt        Fs  \\\n",
      "0           63103  MQT  2017-11-19 20:50:00     9.077027    352.454  0.512842   \n",
      "1         3530354  APX  2023-03-25 21:10:00  2377.321730  65128.816  1.193548   \n",
      "2          229147  MQT  2016-02-16 10:05:00    78.780897   4456.553  1.352688   \n",
      "3         1642210  FIN  2017-02-16 23:35:00   147.008009   4008.382  0.877391   \n",
      "4         2733391  FIN  2017-02-06 00:15:00    65.098648   2760.029  0.687049   \n",
      "...           ...  ...                  ...          ...        ...       ...   \n",
      "31013     4063554  NSA  2021-11-15 17:20:00    92.255727   2039.439  0.649518   \n",
      "31014     4685102  YFB  2018-12-05 09:30:00  1750.184026  51886.463  0.806215   \n",
      "31015     4373961  NSA  2019-12-02 06:45:00  1041.734023  34528.432  1.017316   \n",
      "31016     2416700  FIN  2015-02-14 13:20:00  1085.418864  35936.810  1.122043   \n",
      "31017     1201148  MQT  2018-02-04 04:25:00   541.944087  14549.493  0.730933   \n",
      "\n",
      "            Sr      Ed       Rho    lambda  ...  n0_log_norm  lambda_log_norm  \\\n",
      "0      0.00032  0.0400  0.043947  0.554185  ...    -1.866457        -1.301319   \n",
      "1      0.77936  0.1134  0.118002  0.793669  ...     1.081416         0.041225   \n",
      "2      0.10752  0.1056  0.124895  0.379494  ...    -0.722393        -2.716726   \n",
      "3      0.01626  0.1294  0.130303  0.773315  ...    -0.392124        -0.055887   \n",
      "4      0.01736  0.0390  0.040128  0.506088  ...    -0.823391        -1.640678   \n",
      "...        ...     ...       ...       ...  ...          ...              ...   \n",
      "31013  0.00060  0.0458  0.150072  0.948853  ...    -0.638799         0.708773   \n",
      "31014  0.23234  0.0962  0.100327  0.714154  ...     0.919275        -0.353383   \n",
      "31015  0.43012  0.1110  0.112340  0.656549  ...     0.644588        -0.667745   \n",
      "31016  0.45038  0.0854  0.096334  0.666589  ...     0.666336        -0.611021   \n",
      "31017  0.04968  0.0744  0.069205  0.797750  ...     0.298614         0.060396   \n",
      "\n",
      "        Fs_norm  Rho_log_norm  Sr_log_norm  Nt_log_norm  pca_eof1  pca_eof2  \\\n",
      "0     -1.244223     -1.382860    -2.156695    -1.834057 -4.038198 -0.355268   \n",
      "1      0.694185      0.291845     1.279443     1.181550  2.012721 -0.061841   \n",
      "2      1.147360      0.388108     0.406608    -0.368080 -0.900839  1.719390   \n",
      "3     -0.206118      0.459974    -0.425764    -0.429319 -0.569447  0.417137   \n",
      "4     -0.748143     -1.537036    -0.396919    -0.644920 -2.142859 -0.736050   \n",
      "...         ...           ...          ...          ...       ...       ...   \n",
      "31013 -0.855018      0.699481    -1.879699    -0.819740 -1.399472  0.202724   \n",
      "31014 -0.408802      0.016722     0.746139     1.050213  1.065211 -0.778928   \n",
      "31015  0.192340      0.208471     1.017518     0.814893  1.053684 -0.070921   \n",
      "31016  0.490565     -0.052146     1.037800     0.837992  1.133539 -0.075666   \n",
      "31017 -0.623178     -0.612958     0.066394     0.315551  0.006500 -0.970497   \n",
      "\n",
      "       pca_eof3  group  \n",
      "0      0.153319      1  \n",
      "1     -0.811704      3  \n",
      "2     -2.229404      6  \n",
      "3      0.455758      7  \n",
      "4     -1.307629      1  \n",
      "...         ...    ...  \n",
      "31013  2.053337      5  \n",
      "31014 -0.632856      7  \n",
      "31015 -1.049619      7  \n",
      "31016 -1.197828      7  \n",
      "31017 -0.108173      7  \n",
      "\n",
      "[31018 rows x 27 columns]\n"
     ]
    }
   ],
   "source": [
    "groups = {\n",
    "    1: [\n",
    "        [[-np.inf, -sigma], [-np.inf, np.inf], [-sigma, sigma]]\n",
    "    ],\n",
    "    2: [\n",
    "        [[-sigma, sigma], [sigma, np.inf], [-np.inf, np.inf]]\n",
    "    ],\n",
    "    3: [\n",
    "        [[sigma, np.inf], [-np.inf, np.inf], [-sigma, sigma]]\n",
    "    ],\n",
    "    4: [\n",
    "        [[-sigma, sigma], [-np.inf, -sigma], [-np.inf, np.inf]]\n",
    "    ],\n",
    "    5: [\n",
    "        [[-np.inf, np.inf], [-sigma, sigma], [sigma, np.inf]]\n",
    "    ],\n",
    "    6: [\n",
    "        [[-np.inf, np.inf], [-sigma, sigma], [-np.inf, -sigma]]\n",
    "    ]\n",
    "}\n",
    "\n",
    "def assign_group(row):\n",
    "    for group, conditions in groups.items():\n",
    "        for condition in conditions:\n",
    "            range1, range2, range3 = condition\n",
    "            if range1[0] <= row['pca_eof1'] <= range1[1] and range2[0] <= row['pca_eof2'] <= range2[1] and range3[0] <= row['pca_eof3'] <= range3[1]:\n",
    "                return group\n",
    "    return 7\n",
    "\n",
    "df_all['group'] = df_all.apply(assign_group, axis=1)\n",
    "print(df_all)"
   ]
  },
  {
   "cell_type": "code",
   "execution_count": 11,
   "id": "f57fd4d8",
   "metadata": {},
   "outputs": [
    {
     "name": "stdout",
     "output_type": "stream",
     "text": [
      "(31018, 3)\n"
     ]
    }
   ],
   "source": [
    "reducer = umap.UMAP(n_neighbors=750, min_dist=0.22, n_components=3, metric='canberra')\n",
    "umap_embedding = reducer.fit_transform(scaled_data)\n",
    "print(umap_embedding)"
   ]
  },
  {
   "cell_type": "code",
   "execution_count": 19,
   "id": "7cad8760",
   "metadata": {},
   "outputs": [
    {
     "name": "stderr",
     "output_type": "stream",
     "text": [
      "/Users/fraserking/miniforge3/envs/scimap/lib/python3.8/site-packages/umap/umap_.py:1943: UserWarning:\n",
      "\n",
      "n_jobs value -1 overridden to 1 by setting random_state. Use no seed for parallelism.\n",
      "\n"
     ]
    }
   ],
   "source": [
    "adata = ad.AnnData(X=scaled_data)\n",
    "umap2  = sm.tl.umap(adata, n_neighbors=750, min_dist=0.22, n_components=3, metric='canberra')\n",
    "umap2.obs['groups'] = df_all['group']"
   ]
  },
  {
   "cell_type": "code",
   "execution_count": 21,
   "id": "75616b6c",
   "metadata": {},
   "outputs": [
    {
     "name": "stdout",
     "output_type": "stream",
     "text": [
      "[[11.900461    1.3339728   4.2116265 ]\n",
      " [-0.67619956  6.1479797   6.888573  ]\n",
      " [ 8.117449    7.184049    6.475685  ]\n",
      " ...\n",
      " [ 1.5753034   4.510138    6.1951303 ]\n",
      " [ 1.5544438   3.7654612   5.6034875 ]\n",
      " [ 1.3552419   4.7970786   2.515463  ]]\n"
     ]
    }
   ],
   "source": [
    "sm.hl.animate (adata, color='kmeans')"
   ]
  },
  {
   "cell_type": "code",
   "execution_count": null,
   "id": "67875cce",
   "metadata": {},
   "outputs": [],
   "source": [
    "print(\"All done!\")"
   ]
  }
 ],
 "metadata": {
  "kernelspec": {
   "display_name": "Python 3 (ipykernel)",
   "language": "python",
   "name": "python3"
  },
  "language_info": {
   "codemirror_mode": {
    "name": "ipython",
    "version": 3
   },
   "file_extension": ".py",
   "mimetype": "text/x-python",
   "name": "python",
   "nbconvert_exporter": "python",
   "pygments_lexer": "ipython3",
   "version": "3.8.18"
  }
 },
 "nbformat": 4,
 "nbformat_minor": 5
}
